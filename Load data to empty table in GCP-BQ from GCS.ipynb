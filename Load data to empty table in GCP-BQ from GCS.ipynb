{
 "cells": [
  {
   "cell_type": "code",
   "execution_count": null,
   "metadata": {},
   "outputs": [],
   "source": [
    "!pip install google-cloud-bigquery"
   ]
  },
  {
   "cell_type": "code",
   "execution_count": null,
   "metadata": {},
   "outputs": [],
   "source": [
    "from google.cloud import bigquery"
   ]
  },
  {
   "cell_type": "code",
   "execution_count": null,
   "metadata": {},
   "outputs": [],
   "source": [
    "client = bigquery.Client()"
   ]
  },
  {
   "cell_type": "code",
   "execution_count": null,
   "metadata": {},
   "outputs": [],
   "source": [
    "project_id = 'gleaming-kit-427622-m1'"
   ]
  },
  {
   "cell_type": "code",
   "execution_count": 22,
   "metadata": {},
   "outputs": [
    {
     "name": "stdout",
     "output_type": "stream",
     "text": [
      "42834\n",
      "42851\n",
      "42864\n",
      "42888\n",
      "42890\n",
      "42896\n",
      "42898\n",
      "42899\n",
      "42906\n",
      "42913\n"
     ]
    }
   ],
   "source": [
    "from google.cloud import bigquery\n",
    "client = bigquery.Client()\n",
    "project_id = 'gleaming-kit-427622-m1'\n",
    "#perform a query\n",
    "query = (f'select * from {project_id}.retail.orders limit 10')\n",
    "query_job = client.query(query)  #api request\n",
    "rows = query_job.result()   #waits for query to finish\n",
    "\n",
    "for row in rows:\n",
    "    print(row.order_id)"
   ]
  },
  {
   "cell_type": "code",
   "execution_count": null,
   "metadata": {},
   "outputs": [],
   "source": [
    "table_id = f'{project_id}.retail.orders'"
   ]
  },
  {
   "cell_type": "code",
   "execution_count": 20,
   "metadata": {},
   "outputs": [],
   "source": [
    "job_config = bigquery.LoadJobConfig(\n",
    "    schema = [\n",
    "        bigquery.SchemaField(\"order_id\" , \"integer\"),\n",
    "        bigquery.SchemaField(\"order_date\", \"TIMESTAMP\"),\n",
    "        bigquery.SchemaField(\"order_customer_id\" , \"integer\"),\n",
    "        bigquery.SchemaField(\"order_status\" , \"string\")\n",
    "    ] \n",
    ")"
   ]
  },
  {
   "cell_type": "code",
   "execution_count": null,
   "metadata": {},
   "outputs": [],
   "source": [
    "!gsutil ls gs://abhiretail/retail_db/orders/part-00000"
   ]
  },
  {
   "cell_type": "code",
   "execution_count": null,
   "metadata": {},
   "outputs": [],
   "source": [
    "help(client.load_table_from_uri)"
   ]
  },
  {
   "cell_type": "code",
   "execution_count": 21,
   "metadata": {},
   "outputs": [
    {
     "data": {
      "text/plain": [
       "LoadJob<project=gleaming-kit-427622-m1, location=US, id=f6e24b9f-4dfe-49f5-a621-45d77acb7459>"
      ]
     },
     "execution_count": 21,
     "metadata": {},
     "output_type": "execute_result"
    }
   ],
   "source": [
    "uri = 'gs://abhiretail/retail_db/orders/part-00000'\n",
    "load_job = client.load_table_from_uri(uri, table_id, job_config=job_config)\n",
    "load_job.result()"
   ]
  },
  {
   "cell_type": "code",
   "execution_count": 23,
   "metadata": {},
   "outputs": [
    {
     "name": "stdout",
     "output_type": "stream",
     "text": [
      "Loaded 68883 from table gleaming-kit-427622-m1.retail.orders\n"
     ]
    }
   ],
   "source": [
    "table = client.get_table(table_id)\n",
    "print(f'Loaded {table.num_rows} from table {table_id}')"
   ]
  },
  {
   "cell_type": "code",
   "execution_count": 24,
   "metadata": {},
   "outputs": [
    {
     "name": "stdout",
     "output_type": "stream",
     "text": [
      "(42834, datetime.datetime(2014, 4, 16, 0, 0, tzinfo=datetime.timezone.utc), 4321, 'CLOSED')\n",
      "(42851, datetime.datetime(2014, 4, 16, 0, 0, tzinfo=datetime.timezone.utc), 5972, 'CLOSED')\n",
      "(42864, datetime.datetime(2014, 4, 16, 0, 0, tzinfo=datetime.timezone.utc), 6024, 'CLOSED')\n",
      "(42888, datetime.datetime(2014, 4, 16, 0, 0, tzinfo=datetime.timezone.utc), 3712, 'CLOSED')\n",
      "(42890, datetime.datetime(2014, 4, 16, 0, 0, tzinfo=datetime.timezone.utc), 1961, 'CLOSED')\n",
      "(42896, datetime.datetime(2014, 4, 16, 0, 0, tzinfo=datetime.timezone.utc), 7705, 'CLOSED')\n",
      "(42898, datetime.datetime(2014, 4, 16, 0, 0, tzinfo=datetime.timezone.utc), 7770, 'CLOSED')\n",
      "(42899, datetime.datetime(2014, 4, 16, 0, 0, tzinfo=datetime.timezone.utc), 3119, 'CLOSED')\n",
      "(42906, datetime.datetime(2014, 4, 16, 0, 0, tzinfo=datetime.timezone.utc), 6215, 'CLOSED')\n",
      "(42913, datetime.datetime(2014, 4, 16, 0, 0, tzinfo=datetime.timezone.utc), 10692, 'CLOSED')\n"
     ]
    }
   ],
   "source": [
    "query = (f'select * from {project_id}.retail.orders limit 10')\n",
    "query_job = client.query(query)  #api request\n",
    "rows = query_job.result()   #waits for query to finish\n",
    "\n",
    "for row in rows:\n",
    "    print(row.values())"
   ]
  },
  {
   "cell_type": "code",
   "execution_count": 27,
   "metadata": {},
   "outputs": [
    {
     "name": "stdout",
     "output_type": "stream",
     "text": [
      "gs://abhiretail/retail_db/order_items/part-00000\n"
     ]
    }
   ],
   "source": [
    "!gsutil ls gs://abhiretail/retail_db/order_items/part-00000"
   ]
  },
  {
   "cell_type": "code",
   "execution_count": 28,
   "metadata": {},
   "outputs": [],
   "source": [
    "#load data for order_items based on above logic\n",
    "\n",
    "from google.cloud import bigquery\n",
    "client = bigquery.Client()\n",
    "project_id = 'gleaming-kit-427622-m1'\n",
    "table_id = f'{project_id}.retail.order_items'\n",
    "uri = 'gs://abhiretail/retail_db/order_items/part-00000'\n",
    "job_config = bigquery.LoadJobConfig(\n",
    "    schema = [\n",
    "        bigquery.SchemaField(\"order_item_id\" , \"integer\"),\n",
    "        bigquery.SchemaField(\"order_item_order_id\", \"integer\"),\n",
    "        bigquery.SchemaField(\"order_item_product_id\", \"integer\"),\n",
    "        bigquery.SchemaField(\"order_item_quantity\", \"integer\"),\n",
    "        bigquery.SchemaField(\"order_item_subtotal\" , \"decimal\"),\n",
    "        bigquery.SchemaField(\"order_item_product_price\", \"decimal\")\n",
    "    ]\n",
    ")\n",
    "\n",
    "load_job = client.load_table_from_uri(\n",
    "    uri, table_id, job_config=job_config\n",
    ")"
   ]
  },
  {
   "cell_type": "code",
   "execution_count": 30,
   "metadata": {},
   "outputs": [
    {
     "name": "stdout",
     "output_type": "stream",
     "text": [
      "Loaded 172198 from gleaming-kit-427622-m1.retail.order_items\n"
     ]
    }
   ],
   "source": [
    "#validate data for order_items using client\n",
    "\n",
    "table = client.get_table(table_id)\n",
    "print(f'Loaded {table.num_rows} from {table_id}')"
   ]
  },
  {
   "cell_type": "code",
   "execution_count": 33,
   "metadata": {},
   "outputs": [
    {
     "name": "stdout",
     "output_type": "stream",
     "text": [
      "(168758, 67504, 768, 1, Decimal('299.99'), Decimal('299.99'))\n",
      "(168865, 67543, 768, 1, Decimal('299.99'), Decimal('299.99'))\n",
      "(168888, 67552, 768, 1, Decimal('299.99'), Decimal('299.99'))\n",
      "(169154, 67658, 768, 1, Decimal('299.99'), Decimal('299.99'))\n",
      "(169218, 67682, 768, 1, Decimal('299.99'), Decimal('299.99'))\n",
      "(169252, 67695, 768, 1, Decimal('299.99'), Decimal('299.99'))\n",
      "(169290, 67713, 768, 1, Decimal('299.99'), Decimal('299.99'))\n",
      "(169355, 67740, 768, 1, Decimal('299.99'), Decimal('299.99'))\n",
      "(169406, 67757, 768, 1, Decimal('299.99'), Decimal('299.99'))\n",
      "(169606, 67839, 768, 1, Decimal('299.99'), Decimal('299.99'))\n"
     ]
    }
   ],
   "source": [
    "#validate data for order_items using query\n",
    "\n",
    "QUERY = (f\"select * from {table_id} limit 10\")\n",
    "query_job = client.query(QUERY)\n",
    "rows = query_job.result()\n",
    "for row in rows:\n",
    "    print(row.values())"
   ]
  },
  {
   "cell_type": "code",
   "execution_count": 34,
   "metadata": {},
   "outputs": [
    {
     "name": "stdout",
     "output_type": "stream",
     "text": [
      "gs://abhiretail/retail_db/products/part-00000\n"
     ]
    }
   ],
   "source": [
    "!gsutil ls gs://abhiretail/retail_db/products/part-00000"
   ]
  },
  {
   "cell_type": "code",
   "execution_count": 35,
   "metadata": {},
   "outputs": [],
   "source": [
    "#Loading data for Products table using same logic:\n",
    "\n",
    "#load data for order_items based on above logic\n",
    "\n",
    "from google.cloud import bigquery\n",
    "client = bigquery.Client()\n",
    "project_id = 'gleaming-kit-427622-m1'\n",
    "table_id = f'{project_id}.retail.products'\n",
    "uri = 'gs://abhiretail/retail_db/products/part-00000'\n",
    "job_config = bigquery.LoadJobConfig(\n",
    "    schema = [\n",
    "        bigquery.SchemaField(\"product_id\" , \"integer\"),\n",
    "        bigquery.SchemaField(\"product_category_id\", \"integer\"),\n",
    "        bigquery.SchemaField(\"product_name\", \"string\"),\n",
    "        bigquery.SchemaField(\"product_description\", \"string\"),\n",
    "        bigquery.SchemaField(\"product_price\" , \"decimal\"),\n",
    "        bigquery.SchemaField(\"product_image\", \"string\")\n",
    "    ]\n",
    ")\n",
    "\n",
    "load_job = client.load_table_from_uri(\n",
    "    uri, table_id, job_config=job_config\n",
    ")"
   ]
  },
  {
   "cell_type": "code",
   "execution_count": 36,
   "metadata": {},
   "outputs": [
    {
     "name": "stdout",
     "output_type": "stream",
     "text": [
      "Loaded 1345 from gleaming-kit-427622-m1.retail.products\n"
     ]
    }
   ],
   "source": [
    "#validate data for order_items using client\n",
    "\n",
    "table = client.get_table(table_id)\n",
    "print(f'Loaded {table.num_rows} from {table_id}')"
   ]
  },
  {
   "cell_type": "code",
   "execution_count": 37,
   "metadata": {},
   "outputs": [
    {
     "name": "stdout",
     "output_type": "stream",
     "text": [
      "(934, 42, 'Callaway X Hot Driver', None, Decimal('0'), 'http://images.acmesports.sports/Callaway+X+Hot+Driver')\n",
      "(41, 3, \"adidas Men's Mexico Home Soccer Jersey\", None, Decimal('90'), 'http://images.acmesports.sports/adidas+Men%27s+Mexico+Home+Soccer+Jersey')\n",
      "(519, 24, \"adidas Men's Mexico Home Soccer Jersey\", None, Decimal('90'), 'http://images.acmesports.sports/adidas+Men%27s+Mexico+Home+Soccer+Jersey')\n",
      "(720, 33, \"LIJA Women's Eyelet Golf Skort\", None, Decimal('90'), 'http://images.acmesports.sports/LIJA+Women%27s+Eyelet+Golf+Skort')\n",
      "(974, 44, \"The North Face Women's Stinson Rain Jacket\", None, Decimal('90'), 'http://images.acmesports.sports/The+North+Face+Women%27s+Stinson+Rain+Jacket')\n",
      "(1258, 56, \"adidas Men's Mexico Home Soccer Jersey\", None, Decimal('90'), 'http://images.acmesports.sports/adidas+Men%27s+Mexico+Home+Soccer+Jersey')\n",
      "(1264, 56, \"adidas Men's Argentina Home Soccer Jersey\", None, Decimal('90'), 'http://images.acmesports.sports/adidas+Men%27s+Argentina+Home+Soccer+Jersey')\n",
      "(1267, 56, \"adidas Men's Mexico Red Away Soccer Jersey\", None, Decimal('90'), 'http://images.acmesports.sports/adidas+Men%27s+Mexico+Red+Away+Soccer+Jersey')\n",
      "(1269, 56, \"Nike Men's Netherlands Orange Home Stadium So\", None, Decimal('90'), 'http://images.acmesports.sports/Nike+Men%27s+Netherlands+Orange+Home+Stadium+Soccer+Jersey')\n",
      "(1285, 57, \"adidas Men's Mexico Home Soccer Jersey\", None, Decimal('90'), 'http://images.acmesports.sports/adidas+Men%27s+Mexico+Home+Soccer+Jersey')\n"
     ]
    }
   ],
   "source": [
    "#validate data for order_items using query\n",
    "\n",
    "QUERY = (f\"select * from {table_id} limit 10\")\n",
    "query_job = client.query(QUERY)\n",
    "rows = query_job.result()\n",
    "for row in rows:\n",
    "    print(row.values())"
   ]
  },
  {
   "cell_type": "code",
   "execution_count": null,
   "metadata": {},
   "outputs": [],
   "source": []
  }
 ],
 "metadata": {
  "kernelspec": {
   "display_name": "dev-venv",
   "language": "python",
   "name": "python3"
  },
  "language_info": {
   "codemirror_mode": {
    "name": "ipython",
    "version": 3
   },
   "file_extension": ".py",
   "mimetype": "text/x-python",
   "name": "python",
   "nbconvert_exporter": "python",
   "pygments_lexer": "ipython3",
   "version": "3.12.2"
  }
 },
 "nbformat": 4,
 "nbformat_minor": 2
}
