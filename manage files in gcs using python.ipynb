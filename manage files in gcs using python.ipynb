{
 "cells": [
  {
   "cell_type": "code",
   "execution_count": 4,
   "metadata": {},
   "outputs": [
    {
     "name": "stdout",
     "output_type": "stream",
     "text": [
      "PROJECT_ID              NAME              PROJECT_NUMBER\n",
      "gleaming-kit-427622-m1  My First Project  164293215335\n"
     ]
    }
   ],
   "source": [
    "!gcloud projects list"
   ]
  },
  {
   "cell_type": "code",
   "execution_count": 8,
   "metadata": {},
   "outputs": [
    {
     "name": "stdout",
     "output_type": "stream",
     "text": [
      "Copying file://retail_db/create_db_tables_pg.sql [Content-Type=application/x-sql]...\n",
      "Copying file://retail_db/README.md [Content-Type=text/markdown]...              \n",
      "Copying file://retail_db/create_db.sql [Content-Type=application/x-sql]...      \n",
      "Copying file://retail_db/schemas.json [Content-Type=application/json]...        \n",
      "\\ [4 files][  9.8 MiB/  9.8 MiB]                                                \n",
      "==> NOTE: You are performing a sequence of gsutil operations that may\n",
      "run significantly faster if you instead use gsutil -m cp ... Please\n",
      "see the -m section under \"gsutil help options\" for further information\n",
      "about when gsutil -m can be advantageous.\n",
      "\n",
      "Copying file://retail_db/load_db_tables_pg.sql [Content-Type=application/x-sql]...\n",
      "Copying file://retail_db/customers/part-00000 [Content-Type=application/octet-stream]...\n",
      "Copying file://retail_db/products/part-00000 [Content-Type=application/octet-stream]...\n",
      "Copying file://retail_db/departments/part-00000 [Content-Type=application/octet-stream]...\n",
      "Copying file://retail_db/order_items/part-00000 [Content-Type=application/octet-stream]...\n",
      "Copying file://retail_db/orders/part-00000 [Content-Type=application/octet-stream]...\n",
      "Copying file://retail_db/categories/part-00000 [Content-Type=application/octet-stream]...\n",
      "\\ [11 files][ 28.8 MiB/ 28.8 MiB]                                               \n",
      "Operation completed over 11 objects/28.8 MiB.                                    \n"
     ]
    }
   ],
   "source": [
    "!gsutil cp -r retail_db gs://abhiretail/retail_db"
   ]
  },
  {
   "cell_type": "code",
   "execution_count": 11,
   "metadata": {},
   "outputs": [
    {
     "name": "stdout",
     "output_type": "stream",
     "text": [
      "gs://abhiretail/retail_db/README.md\n",
      "gs://abhiretail/retail_db/create_db.sql\n",
      "gs://abhiretail/retail_db/create_db_tables_pg.sql\n",
      "gs://abhiretail/retail_db/load_db_tables_pg.sql\n",
      "gs://abhiretail/retail_db/schemas.json\n",
      "gs://abhiretail/retail_db/categories/\n",
      "gs://abhiretail/retail_db/customers/\n",
      "gs://abhiretail/retail_db/departments/\n",
      "gs://abhiretail/retail_db/order_items/\n",
      "gs://abhiretail/retail_db/orders/\n",
      "gs://abhiretail/retail_db/products/\n"
     ]
    }
   ],
   "source": [
    "!gsutil ls gs://abhiretail/retail_db"
   ]
  },
  {
   "cell_type": "code",
   "execution_count": 3,
   "metadata": {},
   "outputs": [],
   "source": [
    "from google.cloud import storage"
   ]
  },
  {
   "cell_type": "code",
   "execution_count": 4,
   "metadata": {},
   "outputs": [],
   "source": [
    "gcsclient = storage.Client()"
   ]
  },
  {
   "cell_type": "code",
   "execution_count": 14,
   "metadata": {},
   "outputs": [],
   "source": [
    "buckets = list(gcsclient.list_buckets())[0]"
   ]
  },
  {
   "cell_type": "code",
   "execution_count": 16,
   "metadata": {},
   "outputs": [
    {
     "data": {
      "text/plain": [
       "google.cloud.storage.bucket.Bucket"
      ]
     },
     "execution_count": 16,
     "metadata": {},
     "output_type": "execute_result"
    }
   ],
   "source": [
    "type(buckets)"
   ]
  },
  {
   "cell_type": "code",
   "execution_count": 20,
   "metadata": {},
   "outputs": [
    {
     "data": {
      "text/plain": [
       "'abhiretail'"
      ]
     },
     "execution_count": 20,
     "metadata": {},
     "output_type": "execute_result"
    }
   ],
   "source": [
    "buckets.name"
   ]
  },
  {
   "cell_type": "code",
   "execution_count": 23,
   "metadata": {},
   "outputs": [
    {
     "data": {
      "text/plain": [
       "[<Blob: abhiretail, retail_db/README.md, 1720562256106183>,\n",
       " <Blob: abhiretail, retail_db/categories/part-00000, 1720562260238894>,\n",
       " <Blob: abhiretail, retail_db/create_db.sql, 1720562257156604>,\n",
       " <Blob: abhiretail, retail_db/create_db_tables_pg.sql, 1720562255899186>,\n",
       " <Blob: abhiretail, retail_db/customers/part-00000, 1720562258624524>,\n",
       " <Blob: abhiretail, retail_db/departments/part-00000, 1720562259086142>,\n",
       " <Blob: abhiretail, retail_db/load_db_tables_pg.sql, 1720562258292690>,\n",
       " <Blob: abhiretail, retail_db/order_items/part-00000, 1720562259624416>,\n",
       " <Blob: abhiretail, retail_db/orders/part-00000, 1720562260058015>,\n",
       " <Blob: abhiretail, retail_db/products/part-00000, 1720562258880830>,\n",
       " <Blob: abhiretail, retail_db/schemas.json, 1720562257343494>]"
      ]
     },
     "execution_count": 23,
     "metadata": {},
     "output_type": "execute_result"
    }
   ],
   "source": [
    "list(gcsclient.get_bucket('abhiretail').list_blobs())"
   ]
  },
  {
   "cell_type": "code",
   "execution_count": 28,
   "metadata": {},
   "outputs": [],
   "source": [
    "blob = list(gcsclient.list_blobs('abhiretail'))[0]"
   ]
  },
  {
   "cell_type": "code",
   "execution_count": 38,
   "metadata": {},
   "outputs": [],
   "source": [
    "blob = buckets.blob('pythondemo/retail_demo/orders/part-00000')"
   ]
  },
  {
   "cell_type": "code",
   "execution_count": 41,
   "metadata": {},
   "outputs": [],
   "source": [
    "blob.upload_from_filename('retail_db/orders/part-00000')"
   ]
  },
  {
   "cell_type": "code",
   "execution_count": 42,
   "metadata": {},
   "outputs": [
    {
     "name": "stdout",
     "output_type": "stream",
     "text": [
      "gs://abhiretail/pythondemo/retail_demo/orders/part-00000\n"
     ]
    }
   ],
   "source": [
    "!gsutil ls gs://abhiretail/pythondemo/retail_demo/orders/"
   ]
  },
  {
   "cell_type": "code",
   "execution_count": 46,
   "metadata": {},
   "outputs": [],
   "source": [
    "orders_csv = open('orders,csv' , 'wb')\n",
    "gcsclient.download_blob_to_file('gs://abhiretail/pythondemo/retail_demo/orders/part-00000', orders_csv)\n",
    "orders_csv.close()"
   ]
  },
  {
   "cell_type": "code",
   "execution_count": 47,
   "metadata": {},
   "outputs": [
    {
     "name": "stdout",
     "output_type": "stream",
     "text": [
      "Removing gs://abhiretail/pythondemo/retail_demo/orders/part-00000#1720563931819833...\n",
      "/ [1 objects]                                                                   \n",
      "Operation completed over 1 objects.                                              \n"
     ]
    }
   ],
   "source": [
    "!gsutil rm -r gs://abhiretail/pythondemo"
   ]
  },
  {
   "cell_type": "code",
   "execution_count": 48,
   "metadata": {},
   "outputs": [
    {
     "name": "stdout",
     "output_type": "stream",
     "text": [
      "CommandException: One or more URLs matched no objects.\n"
     ]
    }
   ],
   "source": [
    "!gsutil ls gs://abhiretail/pythondemo/"
   ]
  },
  {
   "cell_type": "code",
   "execution_count": null,
   "metadata": {},
   "outputs": [],
   "source": []
  }
 ],
 "metadata": {
  "kernelspec": {
   "display_name": "Python 3",
   "language": "python",
   "name": "python3"
  },
  "language_info": {
   "codemirror_mode": {
    "name": "ipython",
    "version": 3
   },
   "file_extension": ".py",
   "mimetype": "text/x-python",
   "name": "python",
   "nbconvert_exporter": "python",
   "pygments_lexer": "ipython3",
   "version": "3.12.2"
  }
 },
 "nbformat": 4,
 "nbformat_minor": 2
}
