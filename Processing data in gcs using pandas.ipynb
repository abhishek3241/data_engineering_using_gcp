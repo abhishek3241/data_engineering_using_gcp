{
 "cells": [
  {
   "cell_type": "code",
   "execution_count": null,
   "metadata": {},
   "outputs": [],
   "source": [
    "!pip install pandas"
   ]
  },
  {
   "cell_type": "code",
   "execution_count": null,
   "metadata": {},
   "outputs": [],
   "source": [
    "!pip install gcsfs"
   ]
  },
  {
   "cell_type": "code",
   "execution_count": null,
   "metadata": {},
   "outputs": [],
   "source": [
    "import pandas as pd\n"
   ]
  },
  {
   "cell_type": "code",
   "execution_count": null,
   "metadata": {},
   "outputs": [],
   "source": [
    "columns = ['order_id', 'order_date', 'order_customer_id', 'order_status']"
   ]
  },
  {
   "cell_type": "code",
   "execution_count": null,
   "metadata": {},
   "outputs": [],
   "source": [
    "!gsutil ls gs://abhiretail/pythondemo/retail_db/orders"
   ]
  },
  {
   "cell_type": "code",
   "execution_count": null,
   "metadata": {},
   "outputs": [],
   "source": [
    "df = pd.read_csv('gs://abhiretail/pythondemo/retail_db/orders/part-00000' , \n",
    "                 names = columns)"
   ]
  },
  {
   "cell_type": "code",
   "execution_count": null,
   "metadata": {},
   "outputs": [],
   "source": [
    "df.count()"
   ]
  },
  {
   "cell_type": "code",
   "execution_count": 12,
   "metadata": {},
   "outputs": [
    {
     "name": "stdout",
     "output_type": "stream",
     "text": [
      "Collecting pyarrow\n",
      "  Downloading pyarrow-16.1.0-cp312-cp312-macosx_11_0_arm64.whl.metadata (3.0 kB)\n",
      "Requirement already satisfied: numpy>=1.16.6 in ./dev-venv/lib/python3.12/site-packages (from pyarrow) (2.0.0)\n",
      "Downloading pyarrow-16.1.0-cp312-cp312-macosx_11_0_arm64.whl (26.0 MB)\n",
      "\u001b[2K   \u001b[90m━━━━━━━━━━━━━━━━━━━━━━━━━━━━━━━━━━━━━━━━\u001b[0m \u001b[32m26.0/26.0 MB\u001b[0m \u001b[31m42.8 MB/s\u001b[0m eta \u001b[36m0:00:00\u001b[0ma \u001b[36m0:00:01\u001b[0m\n",
      "\u001b[?25hInstalling collected packages: pyarrow\n",
      "Successfully installed pyarrow-16.1.0\n",
      "\n",
      "\u001b[1m[\u001b[0m\u001b[34;49mnotice\u001b[0m\u001b[1;39;49m]\u001b[0m\u001b[39;49m A new release of pip is available: \u001b[0m\u001b[31;49m24.0\u001b[0m\u001b[39;49m -> \u001b[0m\u001b[32;49m24.1.2\u001b[0m\n",
      "\u001b[1m[\u001b[0m\u001b[34;49mnotice\u001b[0m\u001b[1;39;49m]\u001b[0m\u001b[39;49m To update, run: \u001b[0m\u001b[32;49mpip install --upgrade pip\u001b[0m\n"
     ]
    }
   ],
   "source": [
    "!pip install pyarrow"
   ]
  },
  {
   "cell_type": "code",
   "execution_count": 13,
   "metadata": {},
   "outputs": [],
   "source": [
    "import glob, os , pandas as pd"
   ]
  },
  {
   "cell_type": "code",
   "execution_count": 15,
   "metadata": {},
   "outputs": [],
   "source": []
  },
  {
   "cell_type": "code",
   "execution_count": 21,
   "metadata": {},
   "outputs": [
    {
     "data": {
      "text/plain": [
       "['retail_db/',\n",
       " 'retail_db/customers',\n",
       " 'retail_db/customers/part-00000',\n",
       " 'retail_db/products',\n",
       " 'retail_db/products/part-00000',\n",
       " 'retail_db/create_db_tables_pg.sql',\n",
       " 'retail_db/departments',\n",
       " 'retail_db/departments/part-00000',\n",
       " 'retail_db/README.md',\n",
       " 'retail_db/order_items',\n",
       " 'retail_db/order_items/part-00000',\n",
       " 'retail_db/create_db.sql',\n",
       " 'retail_db/schemas.json',\n",
       " 'retail_db/orders',\n",
       " 'retail_db/orders/part-00000',\n",
       " 'retail_db/categories',\n",
       " 'retail_db/categories/part-00000',\n",
       " 'retail_db/load_db_tables_pg.sql']"
      ]
     },
     "execution_count": 21,
     "metadata": {},
     "output_type": "execute_result"
    }
   ],
   "source": [
    "items = glob.glob(f'{src_file_path}/**' , recursive=True)\n",
    "items"
   ]
  },
  {
   "cell_type": "code",
   "execution_count": 25,
   "metadata": {},
   "outputs": [
    {
     "data": {
      "text/plain": [
       "['retail_db/customers/part-00000',\n",
       " 'retail_db/products/part-00000',\n",
       " 'retail_db/departments/part-00000',\n",
       " 'retail_db/order_items/part-00000',\n",
       " 'retail_db/orders/part-00000',\n",
       " 'retail_db/categories/part-00000']"
      ]
     },
     "execution_count": 25,
     "metadata": {},
     "output_type": "execute_result"
    }
   ],
   "source": [
    "files = list(filter(lambda item:os.path.isfile(item) and item.endswith('part-00000') , items))\n",
    "files"
   ]
  },
  {
   "cell_type": "code",
   "execution_count": 26,
   "metadata": {},
   "outputs": [],
   "source": [
    "def get_file_names(src_file_path):\n",
    "    items = glob.glob(f'{src_file_path}/**' , recursive=True)\n",
    "    files = list(filter(lambda item: os.path.isfile(item) and item.endswith('part-00000') , items))\n",
    "    return files"
   ]
  },
  {
   "cell_type": "code",
   "execution_count": 33,
   "metadata": {},
   "outputs": [],
   "source": [
    "import json\n",
    "\n",
    "def get_col_names(schema_file, ds_name):\n",
    "    schemas = json.load(open(schema_file))\n",
    "    ds_schema = sorted(schemas[ds_name] , key = lambda col: col['column_position'])\n",
    "    return [col['column_name'] for col in ds_schema]"
   ]
  },
  {
   "cell_type": "code",
   "execution_count": 34,
   "metadata": {},
   "outputs": [
    {
     "data": {
      "text/plain": [
       "['order_id', 'order_date', 'order_customer_id', 'order_status']"
      ]
     },
     "execution_count": 34,
     "metadata": {},
     "output_type": "execute_result"
    }
   ],
   "source": [
    "get_col_names('retail_db/schemas.json' , 'orders')"
   ]
  },
  {
   "cell_type": "code",
   "execution_count": 36,
   "metadata": {},
   "outputs": [
    {
     "name": "stdout",
     "output_type": "stream",
     "text": [
      "retail_db/customers/part-00000\n",
      "retail_db/products/part-00000\n",
      "retail_db/departments/part-00000\n",
      "retail_db/order_items/part-00000\n",
      "retail_db/orders/part-00000\n",
      "retail_db/categories/part-00000\n"
     ]
    }
   ],
   "source": [
    "for file in files:\n",
    "    print(file)"
   ]
  },
  {
   "cell_type": "code",
   "execution_count": 39,
   "metadata": {},
   "outputs": [
    {
     "name": "stdout",
     "output_type": "stream",
     "text": [
      "Uploading file retail_db/customers/part-00000\n",
      "Uploading file retail_db/products/part-00000\n",
      "Uploading file retail_db/departments/part-00000\n",
      "Uploading file retail_db/order_items/part-00000\n",
      "Uploading file retail_db/orders/part-00000\n",
      "Uploading file retail_db/categories/part-00000\n"
     ]
    }
   ],
   "source": [
    "src_file_path = 'retail_db'\n",
    "files = get_file_names(src_file_path)\n",
    "tgt_file_path = 'retail_db_parquet'\n",
    "bucket = 'abhiretail'\n",
    "schemas_file = 'retail_db/schemas.json'\n",
    "for file in files:\n",
    "    print(f'Uploading file {file}')\n",
    "    blob_suffix = '/'.join(file.split('/')[1:])\n",
    "    ds_name = file.split('/')[-2]\n",
    "    blob_name = f'gs://{bucket}/{tgt_file_path}/{blob_suffix}.snappy.parquet'\n",
    "    columns = get_col_names(schemas_file, ds_name)\n",
    "    df = pd.read_csv(file , names = columns)\n",
    "    df.to_parquet(blob_name , index=False)\n",
    "\n"
   ]
  },
  {
   "cell_type": "code",
   "execution_count": 43,
   "metadata": {},
   "outputs": [
    {
     "name": "stdout",
     "output_type": "stream",
     "text": [
      "gs://abhiretail/retail_db_parquet/orders/part-00000.snappy.parquet\n"
     ]
    }
   ],
   "source": [
    "!gsutil ls gs://abhiretail/retail_db_parquet/orders/part-00000.snappy.parquet"
   ]
  },
  {
   "cell_type": "code",
   "execution_count": 45,
   "metadata": {},
   "outputs": [],
   "source": [
    "df = pd.read_parquet('gs://abhiretail/retail_db_parquet/orders/part-00000.snappy.parquet')"
   ]
  },
  {
   "cell_type": "code",
   "execution_count": null,
   "metadata": {},
   "outputs": [],
   "source": []
  }
 ],
 "metadata": {
  "kernelspec": {
   "display_name": "dev-venv",
   "language": "python",
   "name": "python3"
  },
  "language_info": {
   "codemirror_mode": {
    "name": "ipython",
    "version": 3
   },
   "file_extension": ".py",
   "mimetype": "text/x-python",
   "name": "python",
   "nbconvert_exporter": "python",
   "pygments_lexer": "ipython3",
   "version": "3.12.2"
  }
 },
 "nbformat": 4,
 "nbformat_minor": 2
}
