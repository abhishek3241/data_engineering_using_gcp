{
 "cells": [
  {
   "cell_type": "code",
   "execution_count": null,
   "metadata": {},
   "outputs": [],
   "source": [
    "import glob, os"
   ]
  },
  {
   "cell_type": "code",
   "execution_count": null,
   "metadata": {},
   "outputs": [],
   "source": [
    "src_base_dir = 'retail_db'"
   ]
  },
  {
   "cell_type": "code",
   "execution_count": null,
   "metadata": {},
   "outputs": [],
   "source": [
    "def get_file_names(src_base_dir):\n",
    "    items = glob.glob(f'{src_base_dir}/**' , recursive= True)\n",
    "    return list(filter(lambda item:os.path.isfile(item) and item.endswith('part-00000'), items))"
   ]
  },
  {
   "cell_type": "code",
   "execution_count": null,
   "metadata": {},
   "outputs": [],
   "source": [
    "get_file_names('retail_db')"
   ]
  },
  {
   "cell_type": "code",
   "execution_count": 60,
   "metadata": {},
   "outputs": [
    {
     "data": {
      "text/plain": [
       "['retail_db/',\n",
       " 'retail_db/customers',\n",
       " 'retail_db/customers/part-00000',\n",
       " 'retail_db/products',\n",
       " 'retail_db/products/part-00000',\n",
       " 'retail_db/create_db_tables_pg.sql',\n",
       " 'retail_db/departments',\n",
       " 'retail_db/departments/part-00000',\n",
       " 'retail_db/README.md',\n",
       " 'retail_db/order_items',\n",
       " 'retail_db/order_items/part-00000',\n",
       " 'retail_db/create_db.sql',\n",
       " 'retail_db/schemas.json',\n",
       " 'retail_db/orders',\n",
       " 'retail_db/orders/part-00000',\n",
       " 'retail_db/categories',\n",
       " 'retail_db/categories/part-00000',\n",
       " 'retail_db/load_db_tables_pg.sql']"
      ]
     },
     "execution_count": 60,
     "metadata": {},
     "output_type": "execute_result"
    }
   ],
   "source": [
    "items"
   ]
  },
  {
   "cell_type": "code",
   "execution_count": null,
   "metadata": {},
   "outputs": [],
   "source": [
    "items = glob.glob(f'{src_base_dir}/**' , recursive= True)\n",
    "files = list(filter(lambda item:os.path.isfile(item) and item.endswith('part-00000'), items))"
   ]
  },
  {
   "cell_type": "code",
   "execution_count": 36,
   "metadata": {},
   "outputs": [
    {
     "data": {
      "text/plain": [
       "'retail_db/customers/part-00000'"
      ]
     },
     "execution_count": 36,
     "metadata": {},
     "output_type": "execute_result"
    }
   ],
   "source": [
    "file"
   ]
  },
  {
   "cell_type": "code",
   "execution_count": 37,
   "metadata": {},
   "outputs": [
    {
     "name": "stdout",
     "output_type": "stream",
     "text": [
      "retail_db/customers/part-00000\n"
     ]
    }
   ],
   "source": [
    "!ls retail_db/customers/part-00000"
   ]
  },
  {
   "cell_type": "code",
   "execution_count": null,
   "metadata": {},
   "outputs": [],
   "source": [
    "tgt_base_dir = 'pythondemo'"
   ]
  },
  {
   "cell_type": "code",
   "execution_count": null,
   "metadata": {},
   "outputs": [],
   "source": [
    "from google.cloud import storage"
   ]
  },
  {
   "cell_type": "code",
   "execution_count": null,
   "metadata": {},
   "outputs": [],
   "source": [
    "gcsclient = storage.Client()\n"
   ]
  },
  {
   "cell_type": "code",
   "execution_count": 53,
   "metadata": {},
   "outputs": [
    {
     "name": "stdout",
     "output_type": "stream",
     "text": [
      "Uploading retail_db/customers/part-00000\n",
      "Uploading retail_db/products/part-00000\n",
      "Uploading retail_db/departments/part-00000\n",
      "Uploading retail_db/order_items/part-00000\n",
      "Uploading retail_db/orders/part-00000\n",
      "Uploading retail_db/categories/part-00000\n"
     ]
    }
   ],
   "source": [
    "items = glob.glob(f'{src_base_dir}/**' , recursive= True)\n",
    "bucket = gcsclient.get_bucket('abhiretail')\n",
    "files = list(filter(lambda item:os.path.isfile(item) and item.endswith('part-00000'), items))\n",
    "for file in files:\n",
    "    print(f'Uploading {file}')\n",
    "    blob_name = f'{tgt_base_dir}/{file}'\n",
    "    blob = bucket.blob(blob_name)\n",
    "    blob.upload_from_filename(file)"
   ]
  },
  {
   "cell_type": "code",
   "execution_count": 56,
   "metadata": {},
   "outputs": [
    {
     "name": "stdout",
     "output_type": "stream",
     "text": [
      "gs://abhiretail/pythondemo/retail_db/:\n",
      "\n",
      "gs://abhiretail/pythondemo/retail_db/categories/:\n",
      "gs://abhiretail/pythondemo/retail_db/categories/part-00000\n",
      "\n",
      "gs://abhiretail/pythondemo/retail_db/customers/:\n",
      "gs://abhiretail/pythondemo/retail_db/customers/part-00000\n",
      "\n",
      "gs://abhiretail/pythondemo/retail_db/departments/:\n",
      "gs://abhiretail/pythondemo/retail_db/departments/part-00000\n",
      "\n",
      "gs://abhiretail/pythondemo/retail_db/order_items/:\n",
      "gs://abhiretail/pythondemo/retail_db/order_items/part-00000\n",
      "\n",
      "gs://abhiretail/pythondemo/retail_db/orders/:\n",
      "gs://abhiretail/pythondemo/retail_db/orders/part-00000\n",
      "\n",
      "gs://abhiretail/pythondemo/retail_db/products/:\n",
      "gs://abhiretail/pythondemo/retail_db/products/part-00000\n"
     ]
    }
   ],
   "source": [
    "!gsutil ls -r gs://abhiretail/pythondemo/retail_db/"
   ]
  },
  {
   "cell_type": "code",
   "execution_count": 50,
   "metadata": {},
   "outputs": [
    {
     "name": "stdout",
     "output_type": "stream",
     "text": [
      "      58\n"
     ]
    }
   ],
   "source": [
    "!gsutil cat gs://abhiretail/retail_db/categories/part-00000 | wc -l"
   ]
  },
  {
   "cell_type": "code",
   "execution_count": 59,
   "metadata": {},
   "outputs": [
    {
     "data": {
      "text/plain": [
       "[<Blob: abhiretail, pythondemo/retail_db/categories/part-00000, 1720565900620195>,\n",
       " <Blob: abhiretail, pythondemo/retail_db/customers/part-00000, 1720565898933958>,\n",
       " <Blob: abhiretail, pythondemo/retail_db/departments/part-00000, 1720565899416065>,\n",
       " <Blob: abhiretail, pythondemo/retail_db/order_items/part-00000, 1720565899979595>,\n",
       " <Blob: abhiretail, pythondemo/retail_db/orders/part-00000, 1720565900409955>,\n",
       " <Blob: abhiretail, pythondemo/retail_db/products/part-00000, 1720565899180419>]"
      ]
     },
     "execution_count": 59,
     "metadata": {},
     "output_type": "execute_result"
    }
   ],
   "source": [
    "list(gcsclient.list_blobs('abhiretail', prefix='pythondemo'))"
   ]
  },
  {
   "cell_type": "code",
   "execution_count": null,
   "metadata": {},
   "outputs": [],
   "source": []
  }
 ],
 "metadata": {
  "kernelspec": {
   "display_name": "dev-venv",
   "language": "python",
   "name": "python3"
  },
  "language_info": {
   "codemirror_mode": {
    "name": "ipython",
    "version": 3
   },
   "file_extension": ".py",
   "mimetype": "text/x-python",
   "name": "python",
   "nbconvert_exporter": "python",
   "pygments_lexer": "ipython3",
   "version": "3.12.2"
  }
 },
 "nbformat": 4,
 "nbformat_minor": 2
}
