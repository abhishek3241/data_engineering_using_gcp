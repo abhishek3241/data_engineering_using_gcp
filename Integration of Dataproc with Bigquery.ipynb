from google.cloud import bigquery

client = bigquery.Client()

Query = client.query("select * from gleaming-kit-427622-m1.retail.orders limit 10" )
rows = Query.result()

for row in rows:
    print(row.order_id)